{
 "cells": [
  {
   "cell_type": "code",
   "execution_count": 2,
   "id": "4869c5e2",
   "metadata": {},
   "outputs": [],
   "source": [
    "import numpy as np\n",
    "import torch\n",
    "import torch.nn as nn\n",
    "import torch.optim as optim\n",
    "import torch.utils.data as data\n",
    "import torch.nn.functional as F\n",
    "from PIL import Image"
   ]
  },
  {
   "cell_type": "code",
   "execution_count": 6,
   "id": "c41bb20e",
   "metadata": {},
   "outputs": [],
   "source": [
    "from sklearn.datasets import load_wine\n",
    "wine_data = load_wine()\n",
    "\n",
    "# Признаки и целевые значения\n",
    "_global_var_data_x = torch.tensor(wine_data.data, dtype=torch.float32)\n",
    "_global_var_target = torch.tensor(wine_data.target, dtype=torch.int64)"
   ]
  },
  {
   "cell_type": "code",
   "execution_count": null,
   "id": "6156d9b1",
   "metadata": {},
   "outputs": [],
   "source": [
    "t_rnd = torch.randint(-3, 5, (100, ), dtype=torch.float32)\n",
    "t_mean = t_rnd.mean()\n",
    "t_max = t_rnd[:5].max()\n",
    "t_min = t_rnd[-3:].min()"
   ]
  },
  {
   "cell_type": "code",
   "execution_count": null,
   "id": "00d347c2",
   "metadata": {},
   "outputs": [],
   "source": []
  },
  {
   "cell_type": "code",
   "execution_count": null,
   "id": "da119846",
   "metadata": {},
   "outputs": [],
   "source": []
  },
  {
   "cell_type": "code",
   "execution_count": null,
   "id": "ddaa3f19",
   "metadata": {},
   "outputs": [],
   "source": []
  }
 ],
 "metadata": {
  "kernelspec": {
   "display_name": ".venv",
   "language": "python",
   "name": "python3"
  },
  "language_info": {
   "codemirror_mode": {
    "name": "ipython",
    "version": 3
   },
   "file_extension": ".py",
   "mimetype": "text/x-python",
   "name": "python",
   "nbconvert_exporter": "python",
   "pygments_lexer": "ipython3",
   "version": "3.12.0"
  }
 },
 "nbformat": 4,
 "nbformat_minor": 5
}
